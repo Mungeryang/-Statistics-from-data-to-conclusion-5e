{
 "cells": [
  {
   "cell_type": "markdown",
   "id": "549b253e-4b7e-47dd-aac6-5b79b0e8de52",
   "metadata": {},
   "source": [
    "# chapter1：Basic konwledge\n",
    "第一章主要学习统计学的基本知识和基本概念。"
   ]
  },
  {
   "cell_type": "code",
   "execution_count": null,
   "id": "325fbd23-3d81-4e6d-89a2-91d467e4f05e",
   "metadata": {},
   "outputs": [],
   "source": []
  }
 ],
 "metadata": {
  "kernelspec": {
   "display_name": "Python 3 (ipykernel)",
   "language": "python",
   "name": "python3"
  },
  "language_info": {
   "codemirror_mode": {
    "name": "ipython",
    "version": 3
   },
   "file_extension": ".py",
   "mimetype": "text/x-python",
   "name": "python",
   "nbconvert_exporter": "python",
   "pygments_lexer": "ipython3",
   "version": "3.7.4"
  }
 },
 "nbformat": 4,
 "nbformat_minor": 5
}
